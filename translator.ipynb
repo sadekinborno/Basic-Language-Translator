{
  "nbformat": 4,
  "nbformat_minor": 0,
  "metadata": {
    "colab": {
      "provenance": []
    },
    "kernelspec": {
      "name": "python3",
      "display_name": "Python 3"
    },
    "language_info": {
      "name": "python"
    }
  },
  "cells": [
    {
      "cell_type": "code",
      "execution_count": null,
      "metadata": {
        "colab": {
          "base_uri": "https://localhost:8080/"
        },
        "id": "IxHBCATWsRKw",
        "outputId": "337ed4b6-7b22-48ef-aa3a-fd7318509ef9"
      },
      "outputs": [
        {
          "output_type": "stream",
          "name": "stdout",
          "text": [
            "Requirement already satisfied: transformers in /usr/local/lib/python3.11/dist-packages (4.47.1)\n",
            "Requirement already satisfied: sentencepiece in /usr/local/lib/python3.11/dist-packages (0.2.0)\n",
            "Requirement already satisfied: filelock in /usr/local/lib/python3.11/dist-packages (from transformers) (3.17.0)\n",
            "Requirement already satisfied: huggingface-hub<1.0,>=0.24.0 in /usr/local/lib/python3.11/dist-packages (from transformers) (0.27.1)\n",
            "Requirement already satisfied: numpy>=1.17 in /usr/local/lib/python3.11/dist-packages (from transformers) (1.26.4)\n",
            "Requirement already satisfied: packaging>=20.0 in /usr/local/lib/python3.11/dist-packages (from transformers) (24.2)\n",
            "Requirement already satisfied: pyyaml>=5.1 in /usr/local/lib/python3.11/dist-packages (from transformers) (6.0.2)\n",
            "Requirement already satisfied: regex!=2019.12.17 in /usr/local/lib/python3.11/dist-packages (from transformers) (2024.11.6)\n",
            "Requirement already satisfied: requests in /usr/local/lib/python3.11/dist-packages (from transformers) (2.32.3)\n",
            "Requirement already satisfied: tokenizers<0.22,>=0.21 in /usr/local/lib/python3.11/dist-packages (from transformers) (0.21.0)\n",
            "Requirement already satisfied: safetensors>=0.4.1 in /usr/local/lib/python3.11/dist-packages (from transformers) (0.5.2)\n",
            "Requirement already satisfied: tqdm>=4.27 in /usr/local/lib/python3.11/dist-packages (from transformers) (4.67.1)\n",
            "Requirement already satisfied: fsspec>=2023.5.0 in /usr/local/lib/python3.11/dist-packages (from huggingface-hub<1.0,>=0.24.0->transformers) (2024.10.0)\n",
            "Requirement already satisfied: typing-extensions>=3.7.4.3 in /usr/local/lib/python3.11/dist-packages (from huggingface-hub<1.0,>=0.24.0->transformers) (4.12.2)\n",
            "Requirement already satisfied: charset-normalizer<4,>=2 in /usr/local/lib/python3.11/dist-packages (from requests->transformers) (3.4.1)\n",
            "Requirement already satisfied: idna<4,>=2.5 in /usr/local/lib/python3.11/dist-packages (from requests->transformers) (3.10)\n",
            "Requirement already satisfied: urllib3<3,>=1.21.1 in /usr/local/lib/python3.11/dist-packages (from requests->transformers) (2.3.0)\n",
            "Requirement already satisfied: certifi>=2017.4.17 in /usr/local/lib/python3.11/dist-packages (from requests->transformers) (2024.12.14)\n"
          ]
        }
      ],
      "source": [
        "!pip install transformers sentencepiece\n"
      ]
    },
    {
      "cell_type": "code",
      "source": [
        "from transformers import MarianMTModel, MarianTokenizer\n",
        "\n",
        "print(\"Language Translator\")\n",
        "print(\"===================\")\n",
        "text_to_translate = input(\"Enter the text to translate: \")\n",
        "source_language = input(\"Enter the source language code (e.g., 'en' for English): \")\n",
        "target_language = input(\"Enter the target language code (e.g., 'fr' for French): \")\n",
        "\n",
        "try:\n",
        "    model_name = f\"Helsinki-NLP/opus-mt-{source_language}-{target_language}\"\n",
        "    tokenizer = MarianTokenizer.from_pretrained(model_name)\n",
        "    model = MarianMTModel.from_pretrained(model_name)\n",
        "\n",
        "    inputs = tokenizer.encode(text_to_translate, return_tensors=\"pt\")\n",
        "    translated = model.generate(inputs)\n",
        "    translated_text = tokenizer.decode(translated[0], skip_special_tokens=True)\n",
        "\n",
        "    print(\"\\nTranslated Text:\")\n",
        "    print(translated_text)\n",
        "except Exception as e:\n",
        "    print(\"\\nError occurred during translation:\\n\")\n",
        "    print(e)"
      ],
      "metadata": {
        "colab": {
          "base_uri": "https://localhost:8080/"
        },
        "id": "strJL--UsizU",
        "outputId": "02d1b83e-e0c5-4c9d-f10a-affbb32d5269"
      },
      "execution_count": null,
      "outputs": [
        {
          "output_type": "stream",
          "name": "stdout",
          "text": [
            "Language Translator\n",
            "===================\n",
            "Enter the text to translate: Hello, I am a student\n",
            "Enter the source language code (e.g., 'en' for English): en\n",
            "Enter the target language code (e.g., 'fr' for French): fr\n",
            "\n",
            "Translated Text:\n",
            "Bonjour, je suis étudiant.\n"
          ]
        }
      ]
    },
    {
      "cell_type": "code",
      "source": [
        "from transformers import MarianMTModel, MarianTokenizer\n",
        "\n",
        "\n",
        "def translate_text(text, source_language=\"en\", target_language=\"fr\"):\n",
        "    \"\"\"\n",
        "    Translate text from source_language to target_language using MarianMTModel.\n",
        "    Example: English (\"en\") to French (\"fr\").\n",
        "    \"\"\"\n",
        "    model_name = f\"Helsinki-NLP/opus-mt-{source_language}-{target_language}\"\n",
        "\n",
        "    tokenizer = MarianTokenizer.from_pretrained(model_name)\n",
        "    model = MarianMTModel.from_pretrained(model_name)\n",
        "\n",
        "    inputs = tokenizer.encode(text, return_tensors=\"pt\", max_length=512, truncation=True)\n",
        "\n",
        "    translated = model.generate(inputs, max_length=512, num_beams=4, early_stopping=True)\n",
        "\n",
        "    translated_text = tokenizer.decode(translated[0], skip_special_tokens=True)\n",
        "    return translated_text\n",
        "\n",
        "\n",
        "if __name__ == \"__main__\":\n",
        "    print(\"Language Translator\")\n",
        "    print(\"===================\")\n",
        "\n",
        "    text = input(\"Enter the text to translate: \")\n",
        "    source_language = input(\"Enter the source language code (e.g., 'en' for English): \")\n",
        "    target_language = input(\"Enter the target language code (e.g., 'fr' for French): \")\n",
        "\n",
        "    try:\n",
        "        translated_text = translate_text(text, source_language, target_language)\n",
        "        print(\"\\nTranslated Text:\")\n",
        "        print(translated_text)\n",
        "    except Exception as e:\n",
        "        print(\"\\nError occurred during translation:\")\n",
        "        print(e)\n"
      ],
      "metadata": {
        "colab": {
          "base_uri": "https://localhost:8080/"
        },
        "id": "fuiagOSrs3QR",
        "outputId": "b781acd5-d91d-4a62-bb68-ae4406b0c90d"
      },
      "execution_count": null,
      "outputs": [
        {
          "output_type": "stream",
          "name": "stdout",
          "text": [
            "Language Translator\n",
            "===================\n",
            "Enter the text to translate: What are you doing?\n",
            "Enter the source language code (e.g., 'en' for English): en\n",
            "Enter the target language code (e.g., 'fr' for French): fr\n",
            "\n",
            "Translated Text:\n",
            "Que fais-tu ?\n"
          ]
        }
      ]
    }
  ]
}